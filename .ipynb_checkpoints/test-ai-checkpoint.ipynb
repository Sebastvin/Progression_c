{
 "cells": [
  {
   "cell_type": "code",
   "execution_count": 1,
   "id": "096e5c60-6ef3-4cfc-b2b3-cced1c3ac4a3",
   "metadata": {},
   "outputs": [],
   "source": [
    "import pandas as pd\n",
    "import numpy as np\n",
    "from sklearn.feature_extraction.text import TfidfVectorizer \n",
    "from sklearn.metrics.pairwise import linear_kernel\n",
    "from sklearn.metrics.pairwise import cosine_similarity"
   ]
  },
  {
   "cell_type": "code",
   "execution_count": 2,
   "id": "839368f1-be41-4009-aa58-8fc4c68d624e",
   "metadata": {},
   "outputs": [],
   "source": [
    "metadata = pd.read_csv('final_dataset.csv', low_memory=False)\n",
    "#metadata = metadata[1:25000]"
   ]
  },
  {
   "cell_type": "code",
   "execution_count": 3,
   "id": "b2e82a2f-a8c1-4286-929c-b3e14748a77f",
   "metadata": {},
   "outputs": [
    {
     "data": {
      "text/html": [
       "<div>\n",
       "<style scoped>\n",
       "    .dataframe tbody tr th:only-of-type {\n",
       "        vertical-align: middle;\n",
       "    }\n",
       "\n",
       "    .dataframe tbody tr th {\n",
       "        vertical-align: top;\n",
       "    }\n",
       "\n",
       "    .dataframe thead th {\n",
       "        text-align: right;\n",
       "    }\n",
       "</style>\n",
       "<table border=\"1\" class=\"dataframe\">\n",
       "  <thead>\n",
       "    <tr style=\"text-align: right;\">\n",
       "      <th></th>\n",
       "      <th>name_game</th>\n",
       "      <th>meta_score</th>\n",
       "      <th>user_score</th>\n",
       "      <th>platform</th>\n",
       "      <th>description</th>\n",
       "    </tr>\n",
       "  </thead>\n",
       "  <tbody>\n",
       "    <tr>\n",
       "      <th>0</th>\n",
       "      <td>The Legend of Zelda: Ocarina of Time</td>\n",
       "      <td>99.0</td>\n",
       "      <td>91.0</td>\n",
       "      <td>Nintendo 64</td>\n",
       "      <td>As a young boy, Link is tricked by Ganondorf, ...</td>\n",
       "    </tr>\n",
       "    <tr>\n",
       "      <th>1</th>\n",
       "      <td>Super Mario Galaxy</td>\n",
       "      <td>97.0</td>\n",
       "      <td>91.0</td>\n",
       "      <td>Wii</td>\n",
       "      <td>[Metacritic's 2007 Wii Game of the Year] The u...</td>\n",
       "    </tr>\n",
       "    <tr>\n",
       "      <th>2</th>\n",
       "      <td>Super Mario Galaxy 2</td>\n",
       "      <td>97.0</td>\n",
       "      <td>91.0</td>\n",
       "      <td>Wii</td>\n",
       "      <td>Super Mario Galaxy 2, the sequel to the galaxy...</td>\n",
       "    </tr>\n",
       "    <tr>\n",
       "      <th>3</th>\n",
       "      <td>Metroid Prime</td>\n",
       "      <td>97.0</td>\n",
       "      <td>89.0</td>\n",
       "      <td>GameCube</td>\n",
       "      <td>Samus returns in a new mission to unravel the ...</td>\n",
       "    </tr>\n",
       "    <tr>\n",
       "      <th>4</th>\n",
       "      <td>Super Mario Odyssey</td>\n",
       "      <td>97.0</td>\n",
       "      <td>89.0</td>\n",
       "      <td>Switch</td>\n",
       "      <td>New Evolution of Mario Sandbox-Style Gameplay....</td>\n",
       "    </tr>\n",
       "  </tbody>\n",
       "</table>\n",
       "</div>"
      ],
      "text/plain": [
       "                              name_game  meta_score  user_score     platform  \\\n",
       "0  The Legend of Zelda: Ocarina of Time        99.0        91.0  Nintendo 64   \n",
       "1                    Super Mario Galaxy        97.0        91.0          Wii   \n",
       "2                  Super Mario Galaxy 2        97.0        91.0          Wii   \n",
       "3                         Metroid Prime        97.0        89.0     GameCube   \n",
       "4                   Super Mario Odyssey        97.0        89.0       Switch   \n",
       "\n",
       "                                         description  \n",
       "0  As a young boy, Link is tricked by Ganondorf, ...  \n",
       "1  [Metacritic's 2007 Wii Game of the Year] The u...  \n",
       "2  Super Mario Galaxy 2, the sequel to the galaxy...  \n",
       "3  Samus returns in a new mission to unravel the ...  \n",
       "4  New Evolution of Mario Sandbox-Style Gameplay....  "
      ]
     },
     "execution_count": 3,
     "metadata": {},
     "output_type": "execute_result"
    }
   ],
   "source": [
    "metadata.head()"
   ]
  },
  {
   "cell_type": "code",
   "execution_count": 4,
   "id": "849c674e-6df6-4fdd-8582-ba76cc0b8c49",
   "metadata": {},
   "outputs": [
    {
     "name": "stdout",
     "output_type": "stream",
     "text": [
      "70.86292718831389\n",
      "69.8855395764919\n",
      "81.0\n",
      "81.0\n"
     ]
    }
   ],
   "source": [
    "# Calculate mean of score average column\n",
    "C_1 = metadata['meta_score'].mean()\n",
    "C_2 = metadata['user_score'].mean()\n",
    "\n",
    "# Calculate the minimum score required to be in the chart\n",
    "m_1 = metadata['meta_score'].quantile(0.80)\n",
    "m_2 = metadata['user_score'].quantile(0.80)\n",
    "print(C_1)\n",
    "print(C_2)\n",
    "print(m_1)\n",
    "print(m_2)"
   ]
  },
  {
   "cell_type": "code",
   "execution_count": 5,
   "id": "8272b568-3502-42b7-ac45-c248e775c9d7",
   "metadata": {},
   "outputs": [
    {
     "data": {
      "text/plain": [
       "(737, 5)"
      ]
     },
     "execution_count": 5,
     "metadata": {},
     "output_type": "execute_result"
    }
   ],
   "source": [
    "# Filter out all qualified games into a new DataFrame\n",
    "best_games = metadata[(metadata.meta_score> m_1) & (metadata.user_score > m_2)]\n",
    "best_games.shape"
   ]
  },
  {
   "cell_type": "code",
   "execution_count": 6,
   "id": "1e86af70-161b-4556-9b11-d715174465c1",
   "metadata": {},
   "outputs": [],
   "source": [
    "# Function that computes the weighted rating of each game\n",
    "\n",
    "def weighted_rating(x, m=m_1, C=C_1):\n",
    "    v = x['vote_count']\n",
    "    R = x['vote_average']\n",
    "    \n",
    "    # Calculation based on the IMDB formula\n",
    "    \n",
    "    return round((v/(v+m) * R) + (m/(m+v) * C), 2)"
   ]
  },
  {
   "cell_type": "code",
   "execution_count": 7,
   "id": "f8235b96-2a35-43ce-8125-f45727dfb993",
   "metadata": {},
   "outputs": [],
   "source": [
    "#est_games['score'] = best_games.apply(weighted_rating, axis=1)"
   ]
  },
  {
   "cell_type": "code",
   "execution_count": 8,
   "id": "2f55e780-af2a-471d-b25f-97aa04907d89",
   "metadata": {},
   "outputs": [
    {
     "data": {
      "text/html": [
       "<div>\n",
       "<style scoped>\n",
       "    .dataframe tbody tr th:only-of-type {\n",
       "        vertical-align: middle;\n",
       "    }\n",
       "\n",
       "    .dataframe tbody tr th {\n",
       "        vertical-align: top;\n",
       "    }\n",
       "\n",
       "    .dataframe thead th {\n",
       "        text-align: right;\n",
       "    }\n",
       "</style>\n",
       "<table border=\"1\" class=\"dataframe\">\n",
       "  <thead>\n",
       "    <tr style=\"text-align: right;\">\n",
       "      <th></th>\n",
       "      <th>name_game</th>\n",
       "      <th>meta_score</th>\n",
       "      <th>user_score</th>\n",
       "      <th>platform</th>\n",
       "      <th>description</th>\n",
       "    </tr>\n",
       "  </thead>\n",
       "  <tbody>\n",
       "    <tr>\n",
       "      <th>0</th>\n",
       "      <td>The Legend of Zelda: Ocarina of Time</td>\n",
       "      <td>99.00</td>\n",
       "      <td>91.0</td>\n",
       "      <td>Nintendo 64</td>\n",
       "      <td>As a young boy, Link is tricked by Ganondorf, ...</td>\n",
       "    </tr>\n",
       "    <tr>\n",
       "      <th>1</th>\n",
       "      <td>Super Mario Galaxy</td>\n",
       "      <td>97.00</td>\n",
       "      <td>91.0</td>\n",
       "      <td>Wii</td>\n",
       "      <td>[Metacritic's 2007 Wii Game of the Year] The u...</td>\n",
       "    </tr>\n",
       "    <tr>\n",
       "      <th>2</th>\n",
       "      <td>Super Mario Galaxy 2</td>\n",
       "      <td>97.00</td>\n",
       "      <td>91.0</td>\n",
       "      <td>Wii</td>\n",
       "      <td>Super Mario Galaxy 2, the sequel to the galaxy...</td>\n",
       "    </tr>\n",
       "    <tr>\n",
       "      <th>3</th>\n",
       "      <td>Metroid Prime</td>\n",
       "      <td>97.00</td>\n",
       "      <td>89.0</td>\n",
       "      <td>GameCube</td>\n",
       "      <td>Samus returns in a new mission to unravel the ...</td>\n",
       "    </tr>\n",
       "    <tr>\n",
       "      <th>4</th>\n",
       "      <td>Super Mario Odyssey</td>\n",
       "      <td>97.00</td>\n",
       "      <td>89.0</td>\n",
       "      <td>Switch</td>\n",
       "      <td>New Evolution of Mario Sandbox-Style Gameplay....</td>\n",
       "    </tr>\n",
       "    <tr>\n",
       "      <th>5</th>\n",
       "      <td>Halo: Combat Evolved</td>\n",
       "      <td>97.00</td>\n",
       "      <td>87.0</td>\n",
       "      <td>Xbox</td>\n",
       "      <td>Enter the mysterious world of Halo, an alien p...</td>\n",
       "    </tr>\n",
       "    <tr>\n",
       "      <th>6</th>\n",
       "      <td>The House in Fata Morgana - Dreams of the Reve...</td>\n",
       "      <td>97.00</td>\n",
       "      <td>83.0</td>\n",
       "      <td>Switch</td>\n",
       "      <td>A gothic suspense tale set in a cursed mansion...</td>\n",
       "    </tr>\n",
       "    <tr>\n",
       "      <th>4263</th>\n",
       "      <td>10 Second Ninja X</td>\n",
       "      <td>96.80</td>\n",
       "      <td>81.4</td>\n",
       "      <td>['Xbox One', 'PlayStation 3', 'Xbox 360', 'Pla...</td>\n",
       "      <td>Los Santos is a sprawling sun-soaked metropoli...</td>\n",
       "    </tr>\n",
       "    <tr>\n",
       "      <th>4265</th>\n",
       "      <td>11-11: Memories Retold</td>\n",
       "      <td>96.50</td>\n",
       "      <td>85.0</td>\n",
       "      <td>['Switch', 'Wii U']</td>\n",
       "      <td>Forget everything you know about The Legend of...</td>\n",
       "    </tr>\n",
       "    <tr>\n",
       "      <th>9</th>\n",
       "      <td>Tekken 3</td>\n",
       "      <td>96.00</td>\n",
       "      <td>91.0</td>\n",
       "      <td>PlayStation</td>\n",
       "      <td>An ancient evil force has reawakened, attackin...</td>\n",
       "    </tr>\n",
       "    <tr>\n",
       "      <th>10</th>\n",
       "      <td>The Legend of Zelda: The Wind Waker</td>\n",
       "      <td>96.00</td>\n",
       "      <td>90.0</td>\n",
       "      <td>GameCube</td>\n",
       "      <td>In this ninth entry in the Legend of Zelda ser...</td>\n",
       "    </tr>\n",
       "    <tr>\n",
       "      <th>4273</th>\n",
       "      <td>2064: Read Only Memories</td>\n",
       "      <td>96.00</td>\n",
       "      <td>91.5</td>\n",
       "      <td>['Xbox 360', 'PC']</td>\n",
       "      <td>Games included in The Orange Box compilation: ...</td>\n",
       "    </tr>\n",
       "    <tr>\n",
       "      <th>8</th>\n",
       "      <td>Uncharted 2: Among Thieves</td>\n",
       "      <td>96.00</td>\n",
       "      <td>88.0</td>\n",
       "      <td>PlayStation 3</td>\n",
       "      <td>Fortune hunter Nathan Drake returns in Unchart...</td>\n",
       "    </tr>\n",
       "    <tr>\n",
       "      <th>11</th>\n",
       "      <td>Gran Turismo</td>\n",
       "      <td>96.00</td>\n",
       "      <td>86.0</td>\n",
       "      <td>PlayStation</td>\n",
       "      <td>Welcome to the most advanced racing game ever ...</td>\n",
       "    </tr>\n",
       "    <tr>\n",
       "      <th>12</th>\n",
       "      <td>Metal Gear Solid 2: Sons of Liberty</td>\n",
       "      <td>96.00</td>\n",
       "      <td>88.0</td>\n",
       "      <td>PlayStation 2</td>\n",
       "      <td>Since the incident on Shadow Moses Island, Met...</td>\n",
       "    </tr>\n",
       "    <tr>\n",
       "      <th>4276</th>\n",
       "      <td>39 Days to Mars</td>\n",
       "      <td>95.50</td>\n",
       "      <td>89.5</td>\n",
       "      <td>['GameCube', 'Wii']</td>\n",
       "      <td>When an evil darkness enshrouds the land of Hy...</td>\n",
       "    </tr>\n",
       "    <tr>\n",
       "      <th>4270</th>\n",
       "      <td>198X</td>\n",
       "      <td>95.33</td>\n",
       "      <td>88.3</td>\n",
       "      <td>['Xbox 360', 'PC', 'PlayStation 3']</td>\n",
       "      <td>Going beyond \"run and gun corridors,\" \"monster...</td>\n",
       "    </tr>\n",
       "    <tr>\n",
       "      <th>4268</th>\n",
       "      <td>1942: Joint Strike</td>\n",
       "      <td>95.00</td>\n",
       "      <td>83.0</td>\n",
       "      <td>['PlayStation 2', 'PC']</td>\n",
       "      <td>The PC version features enhanced 3D audio. Env...</td>\n",
       "    </tr>\n",
       "    <tr>\n",
       "      <th>4285</th>\n",
       "      <td>60 Parsecs!</td>\n",
       "      <td>95.00</td>\n",
       "      <td>88.7</td>\n",
       "      <td>['PC', 'Xbox 360', 'PlayStation 3']</td>\n",
       "      <td>Portal 2 is the sequel to the title named \"Gam...</td>\n",
       "    </tr>\n",
       "    <tr>\n",
       "      <th>4282</th>\n",
       "      <td>4x4 Evolution</td>\n",
       "      <td>95.00</td>\n",
       "      <td>89.5</td>\n",
       "      <td>['PlayStation 3', 'Xbox 360']</td>\n",
       "      <td>Developed by Rockstar San Diego, as a follow u...</td>\n",
       "    </tr>\n",
       "  </tbody>\n",
       "</table>\n",
       "</div>"
      ],
      "text/plain": [
       "                                              name_game  meta_score  \\\n",
       "0                  The Legend of Zelda: Ocarina of Time       99.00   \n",
       "1                                    Super Mario Galaxy       97.00   \n",
       "2                                  Super Mario Galaxy 2       97.00   \n",
       "3                                         Metroid Prime       97.00   \n",
       "4                                   Super Mario Odyssey       97.00   \n",
       "5                                  Halo: Combat Evolved       97.00   \n",
       "6     The House in Fata Morgana - Dreams of the Reve...       97.00   \n",
       "4263                                  10 Second Ninja X       96.80   \n",
       "4265                             11-11: Memories Retold       96.50   \n",
       "9                                              Tekken 3       96.00   \n",
       "10                  The Legend of Zelda: The Wind Waker       96.00   \n",
       "4273                           2064: Read Only Memories       96.00   \n",
       "8                            Uncharted 2: Among Thieves       96.00   \n",
       "11                                         Gran Turismo       96.00   \n",
       "12                  Metal Gear Solid 2: Sons of Liberty       96.00   \n",
       "4276                                    39 Days to Mars       95.50   \n",
       "4270                                               198X       95.33   \n",
       "4268                                 1942: Joint Strike       95.00   \n",
       "4285                                        60 Parsecs!       95.00   \n",
       "4282                                      4x4 Evolution       95.00   \n",
       "\n",
       "      user_score                                           platform  \\\n",
       "0           91.0                                        Nintendo 64   \n",
       "1           91.0                                                Wii   \n",
       "2           91.0                                                Wii   \n",
       "3           89.0                                           GameCube   \n",
       "4           89.0                                             Switch   \n",
       "5           87.0                                               Xbox   \n",
       "6           83.0                                             Switch   \n",
       "4263        81.4  ['Xbox One', 'PlayStation 3', 'Xbox 360', 'Pla...   \n",
       "4265        85.0                                ['Switch', 'Wii U']   \n",
       "9           91.0                                        PlayStation   \n",
       "10          90.0                                           GameCube   \n",
       "4273        91.5                                 ['Xbox 360', 'PC']   \n",
       "8           88.0                                      PlayStation 3   \n",
       "11          86.0                                        PlayStation   \n",
       "12          88.0                                      PlayStation 2   \n",
       "4276        89.5                                ['GameCube', 'Wii']   \n",
       "4270        88.3                ['Xbox 360', 'PC', 'PlayStation 3']   \n",
       "4268        83.0                            ['PlayStation 2', 'PC']   \n",
       "4285        88.7                ['PC', 'Xbox 360', 'PlayStation 3']   \n",
       "4282        89.5                      ['PlayStation 3', 'Xbox 360']   \n",
       "\n",
       "                                            description  \n",
       "0     As a young boy, Link is tricked by Ganondorf, ...  \n",
       "1     [Metacritic's 2007 Wii Game of the Year] The u...  \n",
       "2     Super Mario Galaxy 2, the sequel to the galaxy...  \n",
       "3     Samus returns in a new mission to unravel the ...  \n",
       "4     New Evolution of Mario Sandbox-Style Gameplay....  \n",
       "5     Enter the mysterious world of Halo, an alien p...  \n",
       "6     A gothic suspense tale set in a cursed mansion...  \n",
       "4263  Los Santos is a sprawling sun-soaked metropoli...  \n",
       "4265  Forget everything you know about The Legend of...  \n",
       "9     An ancient evil force has reawakened, attackin...  \n",
       "10    In this ninth entry in the Legend of Zelda ser...  \n",
       "4273  Games included in The Orange Box compilation: ...  \n",
       "8     Fortune hunter Nathan Drake returns in Unchart...  \n",
       "11    Welcome to the most advanced racing game ever ...  \n",
       "12    Since the incident on Shadow Moses Island, Met...  \n",
       "4276  When an evil darkness enshrouds the land of Hy...  \n",
       "4270  Going beyond \"run and gun corridors,\" \"monster...  \n",
       "4268  The PC version features enhanced 3D audio. Env...  \n",
       "4285  Portal 2 is the sequel to the title named \"Gam...  \n",
       "4282  Developed by Rockstar San Diego, as a follow u...  "
      ]
     },
     "execution_count": 8,
     "metadata": {},
     "output_type": "execute_result"
    }
   ],
   "source": [
    "# Sort movies based on score calculated above\n",
    "\n",
    "best_games = best_games.sort_values('meta_score', ascending=False)\n",
    "\n",
    "# Print the top 15 movies\n",
    "best_games.head(20)"
   ]
  },
  {
   "cell_type": "code",
   "execution_count": 9,
   "id": "c50dc80c-bd9b-4bbe-bf7b-9c9a023356b9",
   "metadata": {},
   "outputs": [
    {
     "data": {
      "text/plain": [
       "0    As a young boy, Link is tricked by Ganondorf, the King of the Gerudo Thieves. The evil human use...\n",
       "1    [Metacritic's 2007 Wii Game of the Year] The ultimate Nintendo hero is taking the ultimate step ...\n",
       "2    Super Mario Galaxy 2, the sequel to the galaxy-hopping original game, includes the gravity-defyi...\n",
       "3    Samus returns in a new mission to unravel the mystery behind the ruined walls scattered across T...\n",
       "4    New Evolution of Mario Sandbox-Style Gameplay. Mario embarks on a new journey through unknown wo...\n",
       "Name: description, dtype: object"
      ]
     },
     "execution_count": 9,
     "metadata": {},
     "output_type": "execute_result"
    }
   ],
   "source": [
    "# Print plot overviews of the first 5 movies.\n",
    "pd.options.display.max_colwidth = 100\n",
    "metadata['description'].head()"
   ]
  },
  {
   "cell_type": "code",
   "execution_count": 10,
   "id": "942c111a-32d6-496e-ac1e-46100046b897",
   "metadata": {},
   "outputs": [
    {
     "data": {
      "text/plain": [
       "(8831, 32332)"
      ]
     },
     "execution_count": 10,
     "metadata": {},
     "output_type": "execute_result"
    }
   ],
   "source": [
    "# Define a TF-IDF Vectorizer Object. Remove all english stop words such as 'the', 'a'\n",
    "tfidf = TfidfVectorizer(stop_words='english')\n",
    "\n",
    "# Replace NaN with an empty string\n",
    "metadata['description'] = metadata['description'].fillna('')\n",
    "\n",
    "# Construct the required TF_IDF matrix by fitting and transformating the data\n",
    "tfidf_matrix = tfidf.fit_transform(metadata['description'])\n",
    "\n",
    "# Output the shape of tfidf_matrix\n",
    "tfidf_matrix.shape"
   ]
  },
  {
   "cell_type": "code",
   "execution_count": 11,
   "id": "409454c2-ab8e-4798-aeb4-9e2ea1dc38d4",
   "metadata": {},
   "outputs": [
    {
     "data": {
      "text/plain": [
       "array(['avenue', 'avenues', 'average', 'avernus', 'averse'], dtype=object)"
      ]
     },
     "execution_count": 11,
     "metadata": {},
     "output_type": "execute_result"
    }
   ],
   "source": [
    "# Array mapping from feature integer indices to feature name.\n",
    "tfidf.get_feature_names_out()[2500:2505]"
   ]
  },
  {
   "cell_type": "code",
   "execution_count": 12,
   "id": "c48ba000-b45c-4e5d-ab5e-8d0dd96a8aea",
   "metadata": {},
   "outputs": [],
   "source": [
    "# Compute the cosine similarity matrix\n",
    "cosine_sim = linear_kernel(tfidf_matrix, tfidf_matrix)"
   ]
  },
  {
   "cell_type": "code",
   "execution_count": 13,
   "id": "029f4601-56b2-404d-8eeb-d965774d2997",
   "metadata": {},
   "outputs": [
    {
     "data": {
      "text/plain": [
       "(8831, 32332)"
      ]
     },
     "execution_count": 13,
     "metadata": {},
     "output_type": "execute_result"
    }
   ],
   "source": [
    "tfidf_matrix.shape"
   ]
  },
  {
   "cell_type": "code",
   "execution_count": 14,
   "id": "bc334cf4-b5e3-4939-81c4-cc5b8daf0f68",
   "metadata": {},
   "outputs": [],
   "source": [
    "# Construct a reverse map of indices and games titles\n",
    "indices = pd.Series(metadata.index, index=metadata['name_game'])"
   ]
  },
  {
   "cell_type": "code",
   "execution_count": 15,
   "id": "b94f9afa-6ca9-49e5-8314-bb12c6ac5570",
   "metadata": {},
   "outputs": [
    {
     "data": {
      "text/plain": [
       "name_game\n",
       "The Legend of Zelda: Ocarina of Time                             0\n",
       "Super Mario Galaxy                                               1\n",
       "Super Mario Galaxy 2                                             2\n",
       "Metroid Prime                                                    3\n",
       "Super Mario Odyssey                                              4\n",
       "Halo: Combat Evolved                                             5\n",
       "The House in Fata Morgana - Dreams of the Revenants Edition -    6\n",
       "NFL 2K1                                                          7\n",
       "Uncharted 2: Among Thieves                                       8\n",
       "Tekken 3                                                         9\n",
       "dtype: int64"
      ]
     },
     "execution_count": 15,
     "metadata": {},
     "output_type": "execute_result"
    }
   ],
   "source": [
    "indices[:10]"
   ]
  },
  {
   "cell_type": "code",
   "execution_count": 16,
   "id": "ec8b9b8c-0a11-40be-8cd7-fabc8879c7d1",
   "metadata": {},
   "outputs": [],
   "source": [
    "# Function that takes in game title as input and outputs most similar games\n",
    "\n",
    "def get_recommendations(name_game, cosine_sim=cosine_sim):\n",
    "    # Get the index of the movie thath matches the title \n",
    "    \n",
    "    idx = indices[title]\n",
    "    \n",
    "    # Get the pairwise similarity scores of all movies with that movie\n",
    "    \n",
    "    sim_scores = list(enumerate(cosine_sim[idx]))\n",
    "    \n",
    "    # Sort the movies based on the similarity scores\n",
    "    \n",
    "    sim_scores = sorted(sim_scores, key=lambda x: x[1], reverse=True)\n",
    "    \n",
    "    # Get the scores of the 10 most similar movies\n",
    "    \n",
    "    sim_scores = sim_scores[1:11]\n",
    "    \n",
    "    # Get the movie indices\n",
    "    \n",
    "    movie_indices = [i[0] for i in sim_scores]\n",
    "    \n",
    "    # Return the top 10 most similar movies\n",
    "    \n",
    "    return metadata['name_game'].iloc[movie_indices]"
   ]
  },
  {
   "cell_type": "code",
   "execution_count": 27,
   "id": "d3f6e685-a45f-480b-bddb-3a0bb769a3af",
   "metadata": {},
   "outputs": [],
   "source": [
    "def create_soup(x):\n",
    "    return ' '.join(x['platform']) + ' ' + ' '.join(x['description'])"
   ]
  },
  {
   "cell_type": "code",
   "execution_count": 28,
   "id": "af2df330-6700-4f1d-91f8-3c808676da2e",
   "metadata": {},
   "outputs": [],
   "source": [
    "def clean_data(x):\n",
    "    if isinstance(x, list):\n",
    "        return [str.lower(i.replace(\" \", \"\")) for i in x]\n",
    "    else:\n",
    "        # Check if director exists. If not, return empty string\n",
    "        if isinstance(x, str):\n",
    "            return str.lower(x.replace(\" \",\"\"))\n",
    "        else:\n",
    "            return ''"
   ]
  },
  {
   "cell_type": "code",
   "execution_count": 35,
   "id": "88981ca3-f8b8-497a-8d47-ebb269ed660c",
   "metadata": {},
   "outputs": [
    {
     "ename": "SyntaxError",
     "evalue": "unexpected EOF while parsing (<unknown>, line 1)",
     "output_type": "error",
     "traceback": [
      "Traceback \u001b[1;36m(most recent call last)\u001b[0m:\n",
      "  File \u001b[0;32m\"C:\\PythonProjects\\Progression_c\\venv\\lib\\site-packages\\IPython\\core\\interactiveshell.py\"\u001b[0m, line \u001b[0;32m3444\u001b[0m, in \u001b[0;35mrun_code\u001b[0m\n    exec(code_obj, self.user_global_ns, self.user_ns)\n",
      "  File \u001b[0;32m\"C:\\Users\\Sebas\\AppData\\Local\\Temp/ipykernel_17572/2622605603.py\"\u001b[0m, line \u001b[0;32m6\u001b[0m, in \u001b[0;35m<module>\u001b[0m\n    metadata[feature] = metadata[feature].apply(literal_eval)\n",
      "  File \u001b[0;32m\"C:\\PythonProjects\\Progression_c\\venv\\lib\\site-packages\\pandas\\core\\series.py\"\u001b[0m, line \u001b[0;32m4357\u001b[0m, in \u001b[0;35mapply\u001b[0m\n    return SeriesApply(self, func, convert_dtype, args, kwargs).apply()\n",
      "  File \u001b[0;32m\"C:\\PythonProjects\\Progression_c\\venv\\lib\\site-packages\\pandas\\core\\apply.py\"\u001b[0m, line \u001b[0;32m1043\u001b[0m, in \u001b[0;35mapply\u001b[0m\n    return self.apply_standard()\n",
      "  File \u001b[0;32m\"C:\\PythonProjects\\Progression_c\\venv\\lib\\site-packages\\pandas\\core\\apply.py\"\u001b[0m, line \u001b[0;32m1099\u001b[0m, in \u001b[0;35mapply_standard\u001b[0m\n    mapped = lib.map_infer(\n",
      "  File \u001b[0;32m\"pandas\\_libs\\lib.pyx\"\u001b[0m, line \u001b[0;32m2859\u001b[0m, in \u001b[0;35mpandas._libs.lib.map_infer\u001b[0m\n",
      "  File \u001b[0;32m\"C:\\Users\\Sebas\\AppData\\Local\\Programs\\Python\\Python39\\lib\\ast.py\"\u001b[0m, line \u001b[0;32m62\u001b[0m, in \u001b[0;35mliteral_eval\u001b[0m\n    node_or_string = parse(node_or_string, mode='eval')\n",
      "\u001b[1;36m  File \u001b[1;32m\"C:\\Users\\Sebas\\AppData\\Local\\Programs\\Python\\Python39\\lib\\ast.py\"\u001b[1;36m, line \u001b[1;32m50\u001b[1;36m, in \u001b[1;35mparse\u001b[1;36m\u001b[0m\n\u001b[1;33m    return compile(source, filename, mode, flags,\u001b[0m\n",
      "\u001b[1;36m  File \u001b[1;32m\"<unknown>\"\u001b[1;36m, line \u001b[1;32m1\u001b[0m\n\u001b[1;33m    asayoungboy,linkistrickedbyganondorf,thekingofthegerudothieves.theevilhumanuseslinktogainaccesstothesacredrealm,whereheplaceshistaintedhandsontriforceandtransformsthebeautifulhyruleanlandscapeintoabarrenwasteland.linkisdeterminedtofixtheproblemshehelpedtocreate,sowiththehelpofrauruhetravelsthroughtimegatheringthepowersofthesevensages.\u001b[0m\n\u001b[1;37m                                                                                                                                                                                                                                                                                                                                                   ^\u001b[0m\n\u001b[1;31mSyntaxError\u001b[0m\u001b[1;31m:\u001b[0m unexpected EOF while parsing\n"
     ]
    }
   ],
   "source": [
    "from ast import literal_eval\n",
    "\n",
    "features = ['description', 'platform']\n",
    "\n",
    "for feature in features:\n",
    "    metadata[feature] = metadata[feature].apply(literal_eval)"
   ]
  },
  {
   "cell_type": "code",
   "execution_count": 37,
   "id": "0a537f26-eaee-4154-8ab7-ba1f85047cd5",
   "metadata": {},
   "outputs": [],
   "source": [
    "# Apply clean_data functions to your features.\n",
    "features = ['description']\n",
    "\n",
    "for feature in features:\n",
    "    metadata[feature] = metadata[feature].apply(clean_data)"
   ]
  },
  {
   "cell_type": "code",
   "execution_count": 38,
   "id": "0097d683-7adc-4d41-a708-780e70594ed8",
   "metadata": {},
   "outputs": [],
   "source": [
    "# Create a new soup feature\n",
    "metadata['soup'] = metadata.apply(create_soup, axis=1)"
   ]
  },
  {
   "cell_type": "code",
   "execution_count": 40,
   "id": "f0a0f0f9-55b1-4a85-896d-13ff51a93c2f",
   "metadata": {},
   "outputs": [
    {
     "data": {
      "text/plain": [
       "0       n i n t e n d o 6 4 a s a y o u n g b o y , l i n k i s t r i c k e d b y g a n o n d o r f , t ...\n",
       "1       w i i [ m e t a c r i t i c ' s 2 0 0 7 w i i g a m e o f t h e y e a r ] t h e u l t i m a t e ...\n",
       "2       w i i s u p e r m a r i o g a l a x y 2 , t h e s e q u e l t o t h e g a l a x y - h o p p i n ...\n",
       "3       g a m e c u b e s a m u s r e t u r n s i n a n e w m i s s i o n t o u n r a v e l t h e m y s ...\n",
       "4       s w i t c h n e w e v o l u t i o n o f m a r i o s a n d b o x - s t y l e g a m e p l a y . m ...\n",
       "                                                       ...                                                 \n",
       "8826    [ ' x b o x ' , ' x b o x ' ] y o u r f a v o r i t e c h a r a c t e r s f r o m t h e m o v i ...\n",
       "8827    [ ' p l a y s t a t i o n 3 ' , ' p l a y s t a t i o n 3 ' , ' x b o x 3 6 0 ' ] d u e f o r r ...\n",
       "8828    [ ' x b o x 3 6 0 ' , ' p c ' , ' p l a y s t a t i o n 3 ' ] t h e l e i s u r e s u i t l a r ...\n",
       "8829    [ ' x b o x 3 6 0 ' , ' p l a y s t a t i o n 3 ' ] p a y i n g h o m a g e t o t h e o l d s c ...\n",
       "8830    [ ' x b o x 3 6 0 ' , ' p c ' ] t h e g a m e i s s e t i n t h e l a s t y e a r s o f t h e r ...\n",
       "Name: soup, Length: 8831, dtype: object"
      ]
     },
     "execution_count": 40,
     "metadata": {},
     "output_type": "execute_result"
    }
   ],
   "source": [
    "metadata['soup']"
   ]
  },
  {
   "cell_type": "code",
   "execution_count": 41,
   "id": "5215559a-971c-4d25-97da-cf1f9b4d6d9d",
   "metadata": {},
   "outputs": [
    {
     "ename": "ValueError",
     "evalue": "empty vocabulary; perhaps the documents only contain stop words",
     "output_type": "error",
     "traceback": [
      "\u001b[1;31m---------------------------------------------------------------------------\u001b[0m",
      "\u001b[1;31mValueError\u001b[0m                                Traceback (most recent call last)",
      "\u001b[1;32m~\\AppData\\Local\\Temp/ipykernel_17572/1346563197.py\u001b[0m in \u001b[0;36m<module>\u001b[1;34m\u001b[0m\n\u001b[0;32m      3\u001b[0m \u001b[1;33m\u001b[0m\u001b[0m\n\u001b[0;32m      4\u001b[0m \u001b[0mcount\u001b[0m \u001b[1;33m=\u001b[0m \u001b[0mCountVectorizer\u001b[0m\u001b[1;33m(\u001b[0m\u001b[0mstop_words\u001b[0m\u001b[1;33m=\u001b[0m\u001b[1;34m'english'\u001b[0m\u001b[1;33m)\u001b[0m\u001b[1;33m\u001b[0m\u001b[1;33m\u001b[0m\u001b[0m\n\u001b[1;32m----> 5\u001b[1;33m \u001b[0mcount_matrix\u001b[0m \u001b[1;33m=\u001b[0m \u001b[0mcount\u001b[0m\u001b[1;33m.\u001b[0m\u001b[0mfit_transform\u001b[0m\u001b[1;33m(\u001b[0m\u001b[0mmetadata\u001b[0m\u001b[1;33m[\u001b[0m\u001b[1;34m'soup'\u001b[0m\u001b[1;33m]\u001b[0m\u001b[1;33m)\u001b[0m\u001b[1;33m\u001b[0m\u001b[1;33m\u001b[0m\u001b[0m\n\u001b[0m",
      "\u001b[1;32mC:\\PythonProjects\\Progression_c\\venv\\lib\\site-packages\\sklearn\\feature_extraction\\text.py\u001b[0m in \u001b[0;36mfit_transform\u001b[1;34m(self, raw_documents, y)\u001b[0m\n\u001b[0;32m   1328\u001b[0m                     \u001b[1;32mbreak\u001b[0m\u001b[1;33m\u001b[0m\u001b[1;33m\u001b[0m\u001b[0m\n\u001b[0;32m   1329\u001b[0m \u001b[1;33m\u001b[0m\u001b[0m\n\u001b[1;32m-> 1330\u001b[1;33m         \u001b[0mvocabulary\u001b[0m\u001b[1;33m,\u001b[0m \u001b[0mX\u001b[0m \u001b[1;33m=\u001b[0m \u001b[0mself\u001b[0m\u001b[1;33m.\u001b[0m\u001b[0m_count_vocab\u001b[0m\u001b[1;33m(\u001b[0m\u001b[0mraw_documents\u001b[0m\u001b[1;33m,\u001b[0m \u001b[0mself\u001b[0m\u001b[1;33m.\u001b[0m\u001b[0mfixed_vocabulary_\u001b[0m\u001b[1;33m)\u001b[0m\u001b[1;33m\u001b[0m\u001b[1;33m\u001b[0m\u001b[0m\n\u001b[0m\u001b[0;32m   1331\u001b[0m \u001b[1;33m\u001b[0m\u001b[0m\n\u001b[0;32m   1332\u001b[0m         \u001b[1;32mif\u001b[0m \u001b[0mself\u001b[0m\u001b[1;33m.\u001b[0m\u001b[0mbinary\u001b[0m\u001b[1;33m:\u001b[0m\u001b[1;33m\u001b[0m\u001b[1;33m\u001b[0m\u001b[0m\n",
      "\u001b[1;32mC:\\PythonProjects\\Progression_c\\venv\\lib\\site-packages\\sklearn\\feature_extraction\\text.py\u001b[0m in \u001b[0;36m_count_vocab\u001b[1;34m(self, raw_documents, fixed_vocab)\u001b[0m\n\u001b[0;32m   1218\u001b[0m             \u001b[0mvocabulary\u001b[0m \u001b[1;33m=\u001b[0m \u001b[0mdict\u001b[0m\u001b[1;33m(\u001b[0m\u001b[0mvocabulary\u001b[0m\u001b[1;33m)\u001b[0m\u001b[1;33m\u001b[0m\u001b[1;33m\u001b[0m\u001b[0m\n\u001b[0;32m   1219\u001b[0m             \u001b[1;32mif\u001b[0m \u001b[1;32mnot\u001b[0m \u001b[0mvocabulary\u001b[0m\u001b[1;33m:\u001b[0m\u001b[1;33m\u001b[0m\u001b[1;33m\u001b[0m\u001b[0m\n\u001b[1;32m-> 1220\u001b[1;33m                 raise ValueError(\n\u001b[0m\u001b[0;32m   1221\u001b[0m                     \u001b[1;34m\"empty vocabulary; perhaps the documents only contain stop words\"\u001b[0m\u001b[1;33m\u001b[0m\u001b[1;33m\u001b[0m\u001b[0m\n\u001b[0;32m   1222\u001b[0m                 )\n",
      "\u001b[1;31mValueError\u001b[0m: empty vocabulary; perhaps the documents only contain stop words"
     ]
    }
   ],
   "source": [
    "# Import CountVectorizer and create the count matrix\n",
    "from sklearn.feature_extraction.text import CountVectorizer\n",
    "\n",
    "count = CountVectorizer(stop_words='english')\n",
    "count_matrix = count.fit_transform(metadata['soup'])"
   ]
  },
  {
   "cell_type": "code",
   "execution_count": null,
   "id": "18fca5a4-259b-4d01-8303-de4d31fb4f96",
   "metadata": {},
   "outputs": [],
   "source": []
  }
 ],
 "metadata": {
  "kernelspec": {
   "display_name": "Python 3 (ipykernel)",
   "language": "python",
   "name": "python3"
  },
  "language_info": {
   "codemirror_mode": {
    "name": "ipython",
    "version": 3
   },
   "file_extension": ".py",
   "mimetype": "text/x-python",
   "name": "python",
   "nbconvert_exporter": "python",
   "pygments_lexer": "ipython3",
   "version": "3.9.7"
  }
 },
 "nbformat": 4,
 "nbformat_minor": 5
}
