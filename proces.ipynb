{
 "cells": [
  {
   "cell_type": "code",
   "execution_count": 1,
   "id": "812ab5f1-2673-4bf0-8cea-7b821ae5ec0d",
   "metadata": {},
   "outputs": [],
   "source": [
    "import pandas as pd\n",
    "import numpy as np\n",
    "import collections"
   ]
  },
  {
   "cell_type": "code",
   "execution_count": 9,
   "id": "05029a8e-7613-4fa4-9c4a-1570f71a040b",
   "metadata": {},
   "outputs": [],
   "source": [
    "df = pd.read_csv('datasets/dataset_games.csv')\n",
    "t = df\n",
    "del df['release_date']\n",
    "del df['Unnamed: 0']"
   ]
  },
  {
   "cell_type": "code",
   "execution_count": 10,
   "id": "98d04434-9937-4c63-9776-2d57e729d944",
   "metadata": {},
   "outputs": [],
   "source": [
    "# url_data = pd.read_csv('datasets/url_images.csv', index_col=False)\n",
    "# del url_data['Unnamed: 0']\n",
    "# url_data"
   ]
  },
  {
   "cell_type": "code",
   "execution_count": 11,
   "id": "1ff567ae-1563-4ef1-a42d-55475a40f7cf",
   "metadata": {},
   "outputs": [],
   "source": [
    "url_links = pd.read_csv(\"datasets/urls_to_games.csv\", index_col=False)"
   ]
  },
  {
   "cell_type": "code",
   "execution_count": 12,
   "id": "9c4cf828-abec-4703-8b48-9d7b91510f2b",
   "metadata": {},
   "outputs": [],
   "source": [
    "df['description'] = df['description'].fillna('None')"
   ]
  },
  {
   "cell_type": "code",
   "execution_count": 13,
   "id": "0061225b-8b25-43a4-b0a8-5c25f7f00ff1",
   "metadata": {},
   "outputs": [
    {
     "data": {
      "text/plain": [
       "name_game       object\n",
       "meta_score       int64\n",
       "user_score     float64\n",
       "platform        object\n",
       "description     object\n",
       "dtype: object"
      ]
     },
     "execution_count": 13,
     "metadata": {},
     "output_type": "execute_result"
    }
   ],
   "source": [
    "df['user_score'] = np.where(df['user_score'] == 'tbd',df['meta_score']/10 ,df['user_score'])\n",
    "df['user_score'] = df['user_score'].astype(float)\n",
    "df.dtypes"
   ]
  },
  {
   "cell_type": "code",
   "execution_count": 14,
   "id": "e9e910fc-3164-4895-b0ea-d0850c2f3174",
   "metadata": {},
   "outputs": [],
   "source": [
    "w = df[df.duplicated(subset='name_game', keep='first')]"
   ]
  },
  {
   "cell_type": "code",
   "execution_count": 15,
   "id": "34848f0b-2ac3-48d9-9cac-9cc705d7d65a",
   "metadata": {},
   "outputs": [],
   "source": [
    "duplicates = list(sorted(set(w['name_game'])))"
   ]
  },
  {
   "cell_type": "code",
   "execution_count": 16,
   "id": "1cc43488-45b8-4fe7-82a6-1867969aba05",
   "metadata": {},
   "outputs": [
    {
     "data": {
      "text/plain": [
       "'.hack//Outbreak Part 3'"
      ]
     },
     "execution_count": 16,
     "metadata": {},
     "output_type": "execute_result"
    }
   ],
   "source": [
    "duplicates[1]"
   ]
  },
  {
   "cell_type": "code",
   "execution_count": 17,
   "id": "6c9d0e41-a23b-432c-b2e1-01d093c86005",
   "metadata": {},
   "outputs": [],
   "source": [
    "# test \n",
    "names =  [[] for i in range(len(duplicates))]\n",
    "meta_score = [[] for i in range(len(duplicates))]\n",
    "user_score = [[] for i in range(len(duplicates))]\n",
    "platform = [[] for i in range(len(duplicates))]\n",
    "description = [[] for i in range(len(duplicates))]\n",
    "\n",
    "\n",
    "for pos, item in enumerate(duplicates):\n",
    "    for r in zip(*t.to_dict(\"list\").values()):\n",
    "        if item == r[0]:\n",
    "            if item not in names[pos]:\n",
    "                names[pos].append(r[0])\n",
    "                \n",
    "            if r[3] not in platform[pos]:\n",
    "                meta_score[pos].append(r[1])\n",
    "                user_score[pos].append(r[2])\n",
    "                platform[pos].append((r[3]))\n",
    "                description[pos].append(r[4])"
   ]
  },
  {
   "cell_type": "code",
   "execution_count": 18,
   "id": "63115bbb-f72a-4930-9e19-9720c987673e",
   "metadata": {},
   "outputs": [],
   "source": [
    "def checker(des):\n",
    "    if des[0] == '[':\n",
    "        for x in range(len(des)):\n",
    "            if des[x] == ']':\n",
    "                return x + 1"
   ]
  },
  {
   "cell_type": "code",
   "execution_count": 19,
   "id": "b2df42ee-7559-4899-9609-0357607732ab",
   "metadata": {},
   "outputs": [],
   "source": [
    "\n",
    "def info(name, meta_score, user_score, platform, description, index):\n",
    "    avg_meta = round((sum(meta_score[index]))/len(meta_score[index]), 2)\n",
    "    avg_user = round((sum(user_score[index]))/len(user_score[index]), 2)\n",
    "\n",
    "    \n",
    "    des = max(description[index], key=len)\n",
    "    \n",
    "    test = checker(des)\n",
    "    if test != None:\n",
    "        des = des[test:].lstrip()\n",
    "    else:\n",
    "        des = des.lstrip()\n",
    "        \n",
    "    return name[index], avg_meta, avg_user, platform[index], des"
   ]
  },
  {
   "cell_type": "code",
   "execution_count": 20,
   "id": "559593c3-3553-4029-ad64-041d4be0a91b",
   "metadata": {},
   "outputs": [],
   "source": [
    "# numpy loop\n",
    "name_game_ = np.array([])\n",
    "meta_score_ = np.array([])\n",
    "user_score_ = np.array([])\n",
    "platform_ = []\n",
    "description_ = np.array([])\n",
    "counter = 0\n",
    "\n",
    "for x in range(len(duplicates)):\n",
    "    counter+=1\n",
    "    data = info(duplicates, meta_score, user_score, platform, description, x)\n",
    "    name_game_  = np.append(name_game_, data[0])\n",
    "    meta_score_ = np.append(meta_score_, data[1])\n",
    "    user_score_ = np.append(user_score_, data[2])\n",
    "    platform_.append(data[3])\n",
    "    description_ = np.append(description_, data[4])\n",
    "\n",
    "df2 = pd.DataFrame({\n",
    "    'name_game': name_game_,\n",
    "    'meta_score': meta_score_,\n",
    "    'user_score': user_score_,\n",
    "    'platform': platform_,\n",
    "    'description': description_,\n",
    "})"
   ]
  },
  {
   "cell_type": "code",
   "execution_count": 21,
   "id": "35e958a8-109a-4086-b177-67a171c67cb4",
   "metadata": {},
   "outputs": [
    {
     "data": {
      "text/html": [
       "<div>\n",
       "<style scoped>\n",
       "    .dataframe tbody tr th:only-of-type {\n",
       "        vertical-align: middle;\n",
       "    }\n",
       "\n",
       "    .dataframe tbody tr th {\n",
       "        vertical-align: top;\n",
       "    }\n",
       "\n",
       "    .dataframe thead th {\n",
       "        text-align: right;\n",
       "    }\n",
       "</style>\n",
       "<table border=\"1\" class=\"dataframe\">\n",
       "  <thead>\n",
       "    <tr style=\"text-align: right;\">\n",
       "      <th></th>\n",
       "      <th>name_game</th>\n",
       "      <th>meta_score</th>\n",
       "      <th>user_score</th>\n",
       "      <th>platform</th>\n",
       "      <th>description</th>\n",
       "    </tr>\n",
       "  </thead>\n",
       "  <tbody>\n",
       "    <tr>\n",
       "      <th>0</th>\n",
       "      <td>The Legend of Zelda: Ocarina of Time</td>\n",
       "      <td>99</td>\n",
       "      <td>9.1</td>\n",
       "      <td>Nintendo 64</td>\n",
       "      <td>As a young boy, Link is tricked by Ganondorf, ...</td>\n",
       "    </tr>\n",
       "    <tr>\n",
       "      <th>1</th>\n",
       "      <td>Super Mario Galaxy</td>\n",
       "      <td>97</td>\n",
       "      <td>9.1</td>\n",
       "      <td>Wii</td>\n",
       "      <td>[Metacritic's 2007 Wii Game of the Year] The u...</td>\n",
       "    </tr>\n",
       "    <tr>\n",
       "      <th>2</th>\n",
       "      <td>Super Mario Galaxy 2</td>\n",
       "      <td>97</td>\n",
       "      <td>9.1</td>\n",
       "      <td>Wii</td>\n",
       "      <td>Super Mario Galaxy 2, the sequel to the galaxy...</td>\n",
       "    </tr>\n",
       "    <tr>\n",
       "      <th>3</th>\n",
       "      <td>Metroid Prime</td>\n",
       "      <td>97</td>\n",
       "      <td>8.9</td>\n",
       "      <td>GameCube</td>\n",
       "      <td>Samus returns in a new mission to unravel the ...</td>\n",
       "    </tr>\n",
       "    <tr>\n",
       "      <th>4</th>\n",
       "      <td>Super Mario Odyssey</td>\n",
       "      <td>97</td>\n",
       "      <td>8.9</td>\n",
       "      <td>Switch</td>\n",
       "      <td>New Evolution of Mario Sandbox-Style Gameplay....</td>\n",
       "    </tr>\n",
       "    <tr>\n",
       "      <th>...</th>\n",
       "      <td>...</td>\n",
       "      <td>...</td>\n",
       "      <td>...</td>\n",
       "      <td>...</td>\n",
       "      <td>...</td>\n",
       "    </tr>\n",
       "    <tr>\n",
       "      <th>4254</th>\n",
       "      <td>SPOGS Racing</td>\n",
       "      <td>18</td>\n",
       "      <td>3.7</td>\n",
       "      <td>Wii</td>\n",
       "      <td>[WiiWare]  Race along in distinctively unique ...</td>\n",
       "    </tr>\n",
       "    <tr>\n",
       "      <th>4255</th>\n",
       "      <td>Double Dragon II: Wander of the Dragons</td>\n",
       "      <td>17</td>\n",
       "      <td>1.5</td>\n",
       "      <td>Xbox 360</td>\n",
       "      <td>A remake the 80's Double Dragon II game. Team ...</td>\n",
       "    </tr>\n",
       "    <tr>\n",
       "      <th>4256</th>\n",
       "      <td>Vroom in the Night Sky</td>\n",
       "      <td>17</td>\n",
       "      <td>3.2</td>\n",
       "      <td>Switch</td>\n",
       "      <td>Vroom in the night sky is a magical bike actio...</td>\n",
       "    </tr>\n",
       "    <tr>\n",
       "      <th>4257</th>\n",
       "      <td>Yaris</td>\n",
       "      <td>17</td>\n",
       "      <td>4.4</td>\n",
       "      <td>Xbox 360</td>\n",
       "      <td>[Xbox Live Arcade]  Hop into a Toyota Yaris an...</td>\n",
       "    </tr>\n",
       "    <tr>\n",
       "      <th>4258</th>\n",
       "      <td>Family Party: 30 Great Games Obstacle Arcade</td>\n",
       "      <td>11</td>\n",
       "      <td>2.2</td>\n",
       "      <td>Wii U</td>\n",
       "      <td>Family Party: 30 Great Games Obstacle Arcade b...</td>\n",
       "    </tr>\n",
       "  </tbody>\n",
       "</table>\n",
       "<p>4259 rows × 5 columns</p>\n",
       "</div>"
      ],
      "text/plain": [
       "                                         name_game  meta_score  user_score  \\\n",
       "0             The Legend of Zelda: Ocarina of Time          99         9.1   \n",
       "1                               Super Mario Galaxy          97         9.1   \n",
       "2                             Super Mario Galaxy 2          97         9.1   \n",
       "3                                    Metroid Prime          97         8.9   \n",
       "4                              Super Mario Odyssey          97         8.9   \n",
       "...                                            ...         ...         ...   \n",
       "4254                                  SPOGS Racing          18         3.7   \n",
       "4255       Double Dragon II: Wander of the Dragons          17         1.5   \n",
       "4256                        Vroom in the Night Sky          17         3.2   \n",
       "4257                                         Yaris          17         4.4   \n",
       "4258  Family Party: 30 Great Games Obstacle Arcade          11         2.2   \n",
       "\n",
       "         platform                                        description  \n",
       "0     Nintendo 64  As a young boy, Link is tricked by Ganondorf, ...  \n",
       "1             Wii  [Metacritic's 2007 Wii Game of the Year] The u...  \n",
       "2             Wii  Super Mario Galaxy 2, the sequel to the galaxy...  \n",
       "3        GameCube  Samus returns in a new mission to unravel the ...  \n",
       "4          Switch  New Evolution of Mario Sandbox-Style Gameplay....  \n",
       "...           ...                                                ...  \n",
       "4254          Wii  [WiiWare]  Race along in distinctively unique ...  \n",
       "4255     Xbox 360  A remake the 80's Double Dragon II game. Team ...  \n",
       "4256       Switch  Vroom in the night sky is a magical bike actio...  \n",
       "4257     Xbox 360  [Xbox Live Arcade]  Hop into a Toyota Yaris an...  \n",
       "4258        Wii U  Family Party: 30 Great Games Obstacle Arcade b...  \n",
       "\n",
       "[4259 rows x 5 columns]"
      ]
     },
     "execution_count": 21,
     "metadata": {},
     "output_type": "execute_result"
    }
   ],
   "source": [
    "df = df[~df['name_game'].isin(duplicates)].reset_index(drop=True)\n",
    "df"
   ]
  },
  {
   "cell_type": "code",
   "execution_count": 22,
   "id": "07f88f2d-1402-4162-a80c-fea7299ea3ca",
   "metadata": {},
   "outputs": [],
   "source": [
    "df = df.append(df2).reset_index(inplace=False, drop=True)"
   ]
  },
  {
   "cell_type": "code",
   "execution_count": 23,
   "id": "218b33da-02f6-42c6-b83d-260886795b0e",
   "metadata": {},
   "outputs": [],
   "source": [
    "df['user_score'] = df['user_score'].apply(lambda x: round(x * 10,2))\n",
    "#df.to_csv('final_dataset.csv', index=False)"
   ]
  },
  {
   "cell_type": "code",
   "execution_count": 24,
   "id": "ba65aeea-ee50-4e14-9d26-da5a0c56fc3e",
   "metadata": {},
   "outputs": [],
   "source": [
    "def get_list_lower(x):\n",
    "    if isinstance(x, list): # For tested\n",
    "        return [str.lower(i.replace(\" \", \"-\")) for i in x]\n",
    "    else:\n",
    "        return [x.lower().replace(' ', '-')]\n",
    "            \n",
    "    # Return empty list in case of missing/malformed data\n",
    "    return []"
   ]
  },
  {
   "cell_type": "code",
   "execution_count": 25,
   "id": "b4f0aa9e-2fad-411a-ab84-463d0bd254cd",
   "metadata": {},
   "outputs": [],
   "source": [
    "df['platform'] = df['platform'].apply(get_list_lower)"
   ]
  },
  {
   "cell_type": "code",
   "execution_count": 29,
   "id": "2e5cdd9b-f9f8-4391-822f-7cd8a0a18277",
   "metadata": {},
   "outputs": [],
   "source": [
    "df['url_link'] = url_links"
   ]
  },
  {
   "cell_type": "code",
   "execution_count": 30,
   "id": "aae9b2fa-af43-45d5-9bf6-9bfda1d2733f",
   "metadata": {},
   "outputs": [
    {
     "data": {
      "text/html": [
       "<div>\n",
       "<style scoped>\n",
       "    .dataframe tbody tr th:only-of-type {\n",
       "        vertical-align: middle;\n",
       "    }\n",
       "\n",
       "    .dataframe tbody tr th {\n",
       "        vertical-align: top;\n",
       "    }\n",
       "\n",
       "    .dataframe thead th {\n",
       "        text-align: right;\n",
       "    }\n",
       "</style>\n",
       "<table border=\"1\" class=\"dataframe\">\n",
       "  <thead>\n",
       "    <tr style=\"text-align: right;\">\n",
       "      <th></th>\n",
       "      <th>name_game</th>\n",
       "      <th>meta_score</th>\n",
       "      <th>user_score</th>\n",
       "      <th>platform</th>\n",
       "      <th>description</th>\n",
       "      <th>url_link</th>\n",
       "    </tr>\n",
       "  </thead>\n",
       "  <tbody>\n",
       "    <tr>\n",
       "      <th>0</th>\n",
       "      <td>The Legend of Zelda: Ocarina of Time</td>\n",
       "      <td>99.0</td>\n",
       "      <td>91.0</td>\n",
       "      <td>[nintendo-64]</td>\n",
       "      <td>As a young boy, Link is tricked by Ganondorf, ...</td>\n",
       "      <td>https://www.metacritic.com/game/nintendo-64/th...</td>\n",
       "    </tr>\n",
       "    <tr>\n",
       "      <th>1</th>\n",
       "      <td>Super Mario Galaxy</td>\n",
       "      <td>97.0</td>\n",
       "      <td>91.0</td>\n",
       "      <td>[wii]</td>\n",
       "      <td>[Metacritic's 2007 Wii Game of the Year] The u...</td>\n",
       "      <td>https://www.metacritic.com/game/wii/super-mari...</td>\n",
       "    </tr>\n",
       "    <tr>\n",
       "      <th>2</th>\n",
       "      <td>Super Mario Galaxy 2</td>\n",
       "      <td>97.0</td>\n",
       "      <td>91.0</td>\n",
       "      <td>[wii]</td>\n",
       "      <td>Super Mario Galaxy 2, the sequel to the galaxy...</td>\n",
       "      <td>https://www.metacritic.com/game/wii/super-mari...</td>\n",
       "    </tr>\n",
       "    <tr>\n",
       "      <th>3</th>\n",
       "      <td>Metroid Prime</td>\n",
       "      <td>97.0</td>\n",
       "      <td>89.0</td>\n",
       "      <td>[gamecube]</td>\n",
       "      <td>Samus returns in a new mission to unravel the ...</td>\n",
       "      <td>https://www.metacritic.com/game/gamecube/metro...</td>\n",
       "    </tr>\n",
       "    <tr>\n",
       "      <th>4</th>\n",
       "      <td>Super Mario Odyssey</td>\n",
       "      <td>97.0</td>\n",
       "      <td>89.0</td>\n",
       "      <td>[switch]</td>\n",
       "      <td>New Evolution of Mario Sandbox-Style Gameplay....</td>\n",
       "      <td>https://www.metacritic.com/game/switch/super-m...</td>\n",
       "    </tr>\n",
       "    <tr>\n",
       "      <th>5</th>\n",
       "      <td>Halo: Combat Evolved</td>\n",
       "      <td>97.0</td>\n",
       "      <td>87.0</td>\n",
       "      <td>[xbox]</td>\n",
       "      <td>Enter the mysterious world of Halo, an alien p...</td>\n",
       "      <td>https://www.metacritic.com/game/xbox/halo-comb...</td>\n",
       "    </tr>\n",
       "    <tr>\n",
       "      <th>6</th>\n",
       "      <td>The House in Fata Morgana - Dreams of the Reve...</td>\n",
       "      <td>97.0</td>\n",
       "      <td>83.0</td>\n",
       "      <td>[switch]</td>\n",
       "      <td>A gothic suspense tale set in a cursed mansion...</td>\n",
       "      <td>https://www.metacritic.com/game/switch/the-hou...</td>\n",
       "    </tr>\n",
       "    <tr>\n",
       "      <th>7</th>\n",
       "      <td>NFL 2K1</td>\n",
       "      <td>97.0</td>\n",
       "      <td>62.0</td>\n",
       "      <td>[dreamcast]</td>\n",
       "      <td>In the end, NFL 2K1 is a deeper, more refined ...</td>\n",
       "      <td>https://www.metacritic.com/game/dreamcast/nfl-2k1</td>\n",
       "    </tr>\n",
       "    <tr>\n",
       "      <th>8</th>\n",
       "      <td>Uncharted 2: Among Thieves</td>\n",
       "      <td>96.0</td>\n",
       "      <td>88.0</td>\n",
       "      <td>[playstation-3]</td>\n",
       "      <td>Fortune hunter Nathan Drake returns in Unchart...</td>\n",
       "      <td>https://www.metacritic.com/game/playstation-3/...</td>\n",
       "    </tr>\n",
       "    <tr>\n",
       "      <th>9</th>\n",
       "      <td>Tekken 3</td>\n",
       "      <td>96.0</td>\n",
       "      <td>91.0</td>\n",
       "      <td>[playstation]</td>\n",
       "      <td>An ancient evil force has reawakened, attackin...</td>\n",
       "      <td>https://www.metacritic.com/game/playstation/te...</td>\n",
       "    </tr>\n",
       "  </tbody>\n",
       "</table>\n",
       "</div>"
      ],
      "text/plain": [
       "                                           name_game  meta_score  user_score  \\\n",
       "0               The Legend of Zelda: Ocarina of Time        99.0        91.0   \n",
       "1                                 Super Mario Galaxy        97.0        91.0   \n",
       "2                               Super Mario Galaxy 2        97.0        91.0   \n",
       "3                                      Metroid Prime        97.0        89.0   \n",
       "4                                Super Mario Odyssey        97.0        89.0   \n",
       "5                               Halo: Combat Evolved        97.0        87.0   \n",
       "6  The House in Fata Morgana - Dreams of the Reve...        97.0        83.0   \n",
       "7                                            NFL 2K1        97.0        62.0   \n",
       "8                         Uncharted 2: Among Thieves        96.0        88.0   \n",
       "9                                           Tekken 3        96.0        91.0   \n",
       "\n",
       "          platform                                        description  \\\n",
       "0    [nintendo-64]  As a young boy, Link is tricked by Ganondorf, ...   \n",
       "1            [wii]  [Metacritic's 2007 Wii Game of the Year] The u...   \n",
       "2            [wii]  Super Mario Galaxy 2, the sequel to the galaxy...   \n",
       "3       [gamecube]  Samus returns in a new mission to unravel the ...   \n",
       "4         [switch]  New Evolution of Mario Sandbox-Style Gameplay....   \n",
       "5           [xbox]  Enter the mysterious world of Halo, an alien p...   \n",
       "6         [switch]  A gothic suspense tale set in a cursed mansion...   \n",
       "7      [dreamcast]  In the end, NFL 2K1 is a deeper, more refined ...   \n",
       "8  [playstation-3]  Fortune hunter Nathan Drake returns in Unchart...   \n",
       "9    [playstation]  An ancient evil force has reawakened, attackin...   \n",
       "\n",
       "                                            url_link  \n",
       "0  https://www.metacritic.com/game/nintendo-64/th...  \n",
       "1  https://www.metacritic.com/game/wii/super-mari...  \n",
       "2  https://www.metacritic.com/game/wii/super-mari...  \n",
       "3  https://www.metacritic.com/game/gamecube/metro...  \n",
       "4  https://www.metacritic.com/game/switch/super-m...  \n",
       "5  https://www.metacritic.com/game/xbox/halo-comb...  \n",
       "6  https://www.metacritic.com/game/switch/the-hou...  \n",
       "7  https://www.metacritic.com/game/dreamcast/nfl-2k1  \n",
       "8  https://www.metacritic.com/game/playstation-3/...  \n",
       "9  https://www.metacritic.com/game/playstation/te...  "
      ]
     },
     "execution_count": 30,
     "metadata": {},
     "output_type": "execute_result"
    }
   ],
   "source": [
    "df.head(10)"
   ]
  },
  {
   "cell_type": "code",
   "execution_count": 31,
   "id": "8e17fdbb-ed15-4baf-bf87-53d5f7e32d0e",
   "metadata": {
    "tags": []
   },
   "outputs": [],
   "source": [
    "df.to_csv('datasets/final_dataset.csv', index=False)"
   ]
  },
  {
   "cell_type": "code",
   "execution_count": null,
   "id": "1b354a15-e6d9-4244-a5bd-77d576e90e40",
   "metadata": {},
   "outputs": [],
   "source": []
  }
 ],
 "metadata": {
  "kernelspec": {
   "display_name": "Python 3 (ipykernel)",
   "language": "python",
   "name": "python3"
  },
  "language_info": {
   "codemirror_mode": {
    "name": "ipython",
    "version": 3
   },
   "file_extension": ".py",
   "mimetype": "text/x-python",
   "name": "python",
   "nbconvert_exporter": "python",
   "pygments_lexer": "ipython3",
   "version": "3.9.3"
  }
 },
 "nbformat": 4,
 "nbformat_minor": 5
}
