{
 "cells": [
  {
   "cell_type": "code",
   "execution_count": 1,
   "id": "096e5c60-6ef3-4cfc-b2b3-cced1c3ac4a3",
   "metadata": {},
   "outputs": [],
   "source": [
    "import pandas as pd\n",
    "from sklearn.feature_extraction.text import TfidfVectorizer \n",
    "from sklearn.metrics.pairwise import linear_kernel\n",
    "from sklearn.metrics.pairwise import cosine_similarity\n",
    "from ast import literal_eval\n",
    "pd.options.mode.chained_assignment = None"
   ]
  },
  {
   "cell_type": "markdown",
   "id": "81d8717f-c622-48e5-809c-aaa1891a8319",
   "metadata": {},
   "source": [
    "## Import and clean data"
   ]
  },
  {
   "cell_type": "code",
   "execution_count": 79,
   "id": "839368f1-be41-4009-aa58-8fc4c68d624e",
   "metadata": {},
   "outputs": [],
   "source": [
    "metadata = pd.read_csv('final_dataset.csv', converters={'platform': literal_eval})\n",
    "features = pd.read_csv('comeon.csv')"
   ]
  },
  {
   "cell_type": "code",
   "execution_count": 3,
   "id": "5f3eb081-9d22-464d-bf04-5d3a2d570114",
   "metadata": {},
   "outputs": [
    {
     "data": {
      "text/html": [
       "<div>\n",
       "<style scoped>\n",
       "    .dataframe tbody tr th:only-of-type {\n",
       "        vertical-align: middle;\n",
       "    }\n",
       "\n",
       "    .dataframe tbody tr th {\n",
       "        vertical-align: top;\n",
       "    }\n",
       "\n",
       "    .dataframe thead th {\n",
       "        text-align: right;\n",
       "    }\n",
       "</style>\n",
       "<table border=\"1\" class=\"dataframe\">\n",
       "  <thead>\n",
       "    <tr style=\"text-align: right;\">\n",
       "      <th></th>\n",
       "      <th>developer</th>\n",
       "      <th>genre</th>\n",
       "      <th>type</th>\n",
       "      <th>rating</th>\n",
       "    </tr>\n",
       "  </thead>\n",
       "  <tbody>\n",
       "    <tr>\n",
       "      <th>0</th>\n",
       "      <td>Nintendo</td>\n",
       "      <td>['Action Adventure', 'Fantasy']</td>\n",
       "      <td>singleplayer</td>\n",
       "      <td>E</td>\n",
       "    </tr>\n",
       "    <tr>\n",
       "      <th>1</th>\n",
       "      <td>Nintendo</td>\n",
       "      <td>['Action', 'Platformer', '3D']</td>\n",
       "      <td>singleplayer</td>\n",
       "      <td>E</td>\n",
       "    </tr>\n",
       "    <tr>\n",
       "      <th>2</th>\n",
       "      <td>Nintendo EAD Tokyo</td>\n",
       "      <td>['Action', 'Platformer', '3D']</td>\n",
       "      <td>singleplayer</td>\n",
       "      <td>E</td>\n",
       "    </tr>\n",
       "    <tr>\n",
       "      <th>3</th>\n",
       "      <td>Retro Studios</td>\n",
       "      <td>['Action', 'Shooter', 'First-Person', 'Sci-Fi']</td>\n",
       "      <td>singleplayer</td>\n",
       "      <td>T</td>\n",
       "    </tr>\n",
       "    <tr>\n",
       "      <th>4</th>\n",
       "      <td>Nintendo</td>\n",
       "      <td>['Action', 'Platformer', '3D']</td>\n",
       "      <td>singleplayer</td>\n",
       "      <td>E10+</td>\n",
       "    </tr>\n",
       "    <tr>\n",
       "      <th>...</th>\n",
       "      <td>...</td>\n",
       "      <td>...</td>\n",
       "      <td>...</td>\n",
       "      <td>...</td>\n",
       "    </tr>\n",
       "    <tr>\n",
       "      <th>95</th>\n",
       "      <td>Bandai Namco Games</td>\n",
       "      <td>['Action', 'Fighting', '3D', '2D']</td>\n",
       "      <td>multiplayer</td>\n",
       "      <td>E10+</td>\n",
       "    </tr>\n",
       "    <tr>\n",
       "      <th>96</th>\n",
       "      <td>TOSE</td>\n",
       "      <td>['Role-Playing', 'Console-style RPG', 'Japanes...</td>\n",
       "      <td>singleplayer</td>\n",
       "      <td>E10+</td>\n",
       "    </tr>\n",
       "    <tr>\n",
       "      <th>97</th>\n",
       "      <td>Monolith Soft</td>\n",
       "      <td>['Role-Playing', 'Action RPG', 'Console-style ...</td>\n",
       "      <td>singleplayer</td>\n",
       "      <td>T</td>\n",
       "    </tr>\n",
       "    <tr>\n",
       "      <th>98</th>\n",
       "      <td>Rare Ltd.</td>\n",
       "      <td>['Action', 'Platformer', '3D']</td>\n",
       "      <td>NaN</td>\n",
       "      <td>M</td>\n",
       "    </tr>\n",
       "    <tr>\n",
       "      <th>99</th>\n",
       "      <td>Nintendo</td>\n",
       "      <td>['Other', 'Racing', 'Arcade', 'Automobile']</td>\n",
       "      <td>multiplayer</td>\n",
       "      <td>E</td>\n",
       "    </tr>\n",
       "  </tbody>\n",
       "</table>\n",
       "<p>100 rows × 4 columns</p>\n",
       "</div>"
      ],
      "text/plain": [
       "              developer                                              genre  \\\n",
       "0              Nintendo                    ['Action Adventure', 'Fantasy']   \n",
       "1              Nintendo                     ['Action', 'Platformer', '3D']   \n",
       "2   Nintendo EAD Tokyo                      ['Action', 'Platformer', '3D']   \n",
       "3         Retro Studios    ['Action', 'Shooter', 'First-Person', 'Sci-Fi']   \n",
       "4              Nintendo                     ['Action', 'Platformer', '3D']   \n",
       "..                  ...                                                ...   \n",
       "95   Bandai Namco Games                 ['Action', 'Fighting', '3D', '2D']   \n",
       "96                 TOSE  ['Role-Playing', 'Console-style RPG', 'Japanes...   \n",
       "97        Monolith Soft  ['Role-Playing', 'Action RPG', 'Console-style ...   \n",
       "98            Rare Ltd.                     ['Action', 'Platformer', '3D']   \n",
       "99             Nintendo        ['Other', 'Racing', 'Arcade', 'Automobile']   \n",
       "\n",
       "            type rating  \n",
       "0   singleplayer      E  \n",
       "1   singleplayer      E  \n",
       "2   singleplayer      E  \n",
       "3   singleplayer      T  \n",
       "4   singleplayer   E10+  \n",
       "..           ...    ...  \n",
       "95   multiplayer   E10+  \n",
       "96  singleplayer   E10+  \n",
       "97  singleplayer      T  \n",
       "98           NaN      M  \n",
       "99   multiplayer      E  \n",
       "\n",
       "[100 rows x 4 columns]"
      ]
     },
     "execution_count": 3,
     "metadata": {},
     "output_type": "execute_result"
    }
   ],
   "source": [
    "features.head(100)"
   ]
  },
  {
   "cell_type": "code",
   "execution_count": 4,
   "id": "ac26dfa6-b374-4113-905b-647cf368004f",
   "metadata": {},
   "outputs": [],
   "source": [
    "metadata = metadata.join(features)"
   ]
  },
  {
   "cell_type": "code",
   "execution_count": 5,
   "id": "48199b60-8917-4639-ab80-632b1a9b5d0c",
   "metadata": {},
   "outputs": [
    {
     "data": {
      "text/plain": [
       "8831"
      ]
     },
     "execution_count": 5,
     "metadata": {},
     "output_type": "execute_result"
    }
   ],
   "source": [
    "len(metadata)"
   ]
  },
  {
   "cell_type": "code",
   "execution_count": 6,
   "id": "9456917e-d6a0-4412-a469-c552e2287930",
   "metadata": {},
   "outputs": [],
   "source": [
    "metadata = metadata.dropna(subset=['genre'])"
   ]
  },
  {
   "cell_type": "code",
   "execution_count": 7,
   "id": "7dcab485-96a5-4486-8729-eb405b392a46",
   "metadata": {},
   "outputs": [
    {
     "data": {
      "text/plain": [
       "8827"
      ]
     },
     "execution_count": 7,
     "metadata": {},
     "output_type": "execute_result"
    }
   ],
   "source": [
    "len(metadata)"
   ]
  },
  {
   "cell_type": "code",
   "execution_count": 8,
   "id": "0302ff15-4e05-4118-9bad-2a2c131e64fe",
   "metadata": {},
   "outputs": [],
   "source": [
    "metadata['genre'] = metadata['genre'].apply(literal_eval)"
   ]
  },
  {
   "cell_type": "code",
   "execution_count": null,
   "id": "4a39585b-946f-4418-a6fb-bdc4d25b6a77",
   "metadata": {},
   "outputs": [],
   "source": [
    "# Sort games based on score calculated above\n",
    "metadata = metadata.sort_values('meta_score', ascending=False).reset_index(inplace=False, drop=True)"
   ]
  },
  {
   "cell_type": "markdown",
   "id": "b1461e2b-d313-47b1-b2e2-b8d97d22d1f3",
   "metadata": {},
   "source": [
    "## Start recommender"
   ]
  },
  {
   "cell_type": "code",
   "execution_count": 80,
   "id": "c50dc80c-bd9b-4bbe-bf7b-9c9a023356b9",
   "metadata": {},
   "outputs": [
    {
     "data": {
      "text/plain": [
       "0    As a young boy, Link is tricked by Ganondorf, the King of the Gerudo Thieves. The evil human use...\n",
       "1    [Metacritic's 2007 Wii Game of the Year] The ultimate Nintendo hero is taking the ultimate step ...\n",
       "2    Super Mario Galaxy 2, the sequel to the galaxy-hopping original game, includes the gravity-defyi...\n",
       "3    Samus returns in a new mission to unravel the mystery behind the ruined walls scattered across T...\n",
       "4    New Evolution of Mario Sandbox-Style Gameplay. Mario embarks on a new journey through unknown wo...\n",
       "Name: description, dtype: object"
      ]
     },
     "execution_count": 80,
     "metadata": {},
     "output_type": "execute_result"
    }
   ],
   "source": [
    "pd.options.display.max_colwidth = 100\n",
    "metadata['description'].head()"
   ]
  },
  {
   "cell_type": "code",
   "execution_count": 26,
   "id": "942c111a-32d6-496e-ac1e-46100046b897",
   "metadata": {},
   "outputs": [
    {
     "data": {
      "text/plain": [
       "(8827, 32326)"
      ]
     },
     "execution_count": 26,
     "metadata": {},
     "output_type": "execute_result"
    }
   ],
   "source": [
    "# Define a TF-IDF Vectorizer Object. Remove all english stop words such as 'the', 'a'\n",
    "tfidf = TfidfVectorizer(stop_words='english')\n",
    "\n",
    "# Replace NaN with an empty string\n",
    "metadata['description'] = metadata['description'].fillna('')\n",
    "\n",
    "# Construct the required TF_IDF matrix by fitting and transformating the data\n",
    "tfidf_matrix = tfidf.fit_transform(metadata['description'])\n",
    "\n",
    "# Output the shape of tfidf_matrix\n",
    "tfidf_matrix.shape"
   ]
  },
  {
   "cell_type": "code",
   "execution_count": 27,
   "id": "409454c2-ab8e-4798-aeb4-9e2ea1dc38d4",
   "metadata": {},
   "outputs": [
    {
     "data": {
      "text/plain": [
       "array(['ceremonial', 'ceremonies', 'ceremony', 'ceres', 'cersei',\n",
       "       'certain', 'certainly', 'certified', 'cesar', 'cessna'],\n",
       "      dtype=object)"
      ]
     },
     "execution_count": 27,
     "metadata": {},
     "output_type": "execute_result"
    }
   ],
   "source": [
    "# Array mapping from feature integer indices to feature name.\n",
    "tfidf.get_feature_names_out()[5000:5010]"
   ]
  },
  {
   "cell_type": "code",
   "execution_count": 28,
   "id": "c48ba000-b45c-4e5d-ab5e-8d0dd96a8aea",
   "metadata": {},
   "outputs": [],
   "source": [
    "# Compute the cosine similarity matrix\n",
    "cosine_sim = linear_kernel(tfidf_matrix, tfidf_matrix)"
   ]
  },
  {
   "cell_type": "code",
   "execution_count": 29,
   "id": "029f4601-56b2-404d-8eeb-d965774d2997",
   "metadata": {},
   "outputs": [
    {
     "data": {
      "text/plain": [
       "(8827, 32326)"
      ]
     },
     "execution_count": 29,
     "metadata": {},
     "output_type": "execute_result"
    }
   ],
   "source": [
    "tfidf_matrix.shape"
   ]
  },
  {
   "cell_type": "code",
   "execution_count": 30,
   "id": "bc334cf4-b5e3-4939-81c4-cc5b8daf0f68",
   "metadata": {},
   "outputs": [],
   "source": [
    "# Construct a reverse map of indices and games titles\n",
    "indices = pd.Series(metadata.index, index=metadata['name_game'])"
   ]
  },
  {
   "cell_type": "code",
   "execution_count": 31,
   "id": "b94f9afa-6ca9-49e5-8314-bb12c6ac5570",
   "metadata": {},
   "outputs": [
    {
     "data": {
      "text/plain": [
       "name_game\n",
       "The Legend of Zelda: Ocarina of Time                             0\n",
       "Super Mario Odyssey                                              1\n",
       "Halo: Combat Evolved                                             2\n",
       "The House in Fata Morgana - Dreams of the Revenants Edition -    3\n",
       "NFL 2K1                                                          4\n",
       "Super Mario Galaxy                                               5\n",
       "Super Mario Galaxy 2                                             6\n",
       "Metroid Prime                                                    7\n",
       "Grand Theft Auto V                                               8\n",
       "The Legend of Zelda: Breath of the Wild                          9\n",
       "dtype: int64"
      ]
     },
     "execution_count": 31,
     "metadata": {},
     "output_type": "execute_result"
    }
   ],
   "source": [
    "indices[:10]"
   ]
  },
  {
   "cell_type": "code",
   "execution_count": 32,
   "id": "ec8b9b8c-0a11-40be-8cd7-fabc8879c7d1",
   "metadata": {},
   "outputs": [],
   "source": [
    "# Function that takes in game title as input and outputs most similar games\n",
    "\n",
    "def get_recommendations(name_game, cosine_sim=cosine_sim):\n",
    "    # Get the index of the game thath matches the title \n",
    "    \n",
    "    idx = indices[name_game]\n",
    "    \n",
    "    # Get the pairwise similarity scores of all games with that game\n",
    "    \n",
    "    sim_scores = list(enumerate(cosine_sim[idx]))\n",
    "    \n",
    "    # Sort the games based on the similarity scores\n",
    "    \n",
    "    sim_scores = sorted(sim_scores, key=lambda x: x[1], reverse=True)\n",
    "    \n",
    "    # Get the scores of the 10 most similar games\n",
    "    \n",
    "    sim_scores = sim_scores[1:11]\n",
    "    \n",
    "    # Get the games indices\n",
    "    \n",
    "    movie_indices = [i[0] for i in sim_scores]\n",
    "    \n",
    "    # Return the top 10 most similar games\n",
    "    \n",
    "    return metadata['name_game'].iloc[movie_indices]"
   ]
  },
  {
   "cell_type": "code",
   "execution_count": 33,
   "id": "8491af65-5736-4a41-8316-e4fc4c543fc0",
   "metadata": {},
   "outputs": [
    {
     "data": {
      "text/html": [
       "<div>\n",
       "<style scoped>\n",
       "    .dataframe tbody tr th:only-of-type {\n",
       "        vertical-align: middle;\n",
       "    }\n",
       "\n",
       "    .dataframe tbody tr th {\n",
       "        vertical-align: top;\n",
       "    }\n",
       "\n",
       "    .dataframe thead th {\n",
       "        text-align: right;\n",
       "    }\n",
       "</style>\n",
       "<table border=\"1\" class=\"dataframe\">\n",
       "  <thead>\n",
       "    <tr style=\"text-align: right;\">\n",
       "      <th></th>\n",
       "      <th>name_game</th>\n",
       "      <th>meta_score</th>\n",
       "      <th>user_score</th>\n",
       "      <th>platform</th>\n",
       "      <th>description</th>\n",
       "      <th>developer</th>\n",
       "      <th>genre</th>\n",
       "      <th>type</th>\n",
       "      <th>rating</th>\n",
       "    </tr>\n",
       "  </thead>\n",
       "  <tbody>\n",
       "    <tr>\n",
       "      <th>0</th>\n",
       "      <td>The Legend of Zelda: Ocarina of Time</td>\n",
       "      <td>99.0</td>\n",
       "      <td>91.0</td>\n",
       "      <td>[nintendo-64]</td>\n",
       "      <td>As a young boy, Link is tricked by Ganondorf, the King of the Gerudo Thieves. The evil human use...</td>\n",
       "      <td>Nintendo</td>\n",
       "      <td>[Action Adventure, Fantasy]</td>\n",
       "      <td>singleplayer</td>\n",
       "      <td>E</td>\n",
       "    </tr>\n",
       "    <tr>\n",
       "      <th>1</th>\n",
       "      <td>Super Mario Odyssey</td>\n",
       "      <td>97.0</td>\n",
       "      <td>89.0</td>\n",
       "      <td>[switch]</td>\n",
       "      <td>New Evolution of Mario Sandbox-Style Gameplay. Mario embarks on a new journey through unknown wo...</td>\n",
       "      <td>Nintendo</td>\n",
       "      <td>[Action, Platformer, 3D]</td>\n",
       "      <td>singleplayer</td>\n",
       "      <td>E10+</td>\n",
       "    </tr>\n",
       "    <tr>\n",
       "      <th>2</th>\n",
       "      <td>Halo: Combat Evolved</td>\n",
       "      <td>97.0</td>\n",
       "      <td>87.0</td>\n",
       "      <td>[xbox]</td>\n",
       "      <td>Enter the mysterious world of Halo, an alien planet shaped like a ring.  As mankind's super sold...</td>\n",
       "      <td>Bungie Software</td>\n",
       "      <td>[Action, Shooter, First-Person, Sci-Fi]</td>\n",
       "      <td>multiplayer</td>\n",
       "      <td>M</td>\n",
       "    </tr>\n",
       "    <tr>\n",
       "      <th>3</th>\n",
       "      <td>The House in Fata Morgana - Dreams of the Revenants Edition -</td>\n",
       "      <td>97.0</td>\n",
       "      <td>83.0</td>\n",
       "      <td>[switch]</td>\n",
       "      <td>A gothic suspense tale set in a cursed mansion. ‘The House in Fata Morgana’ is a full-length vis...</td>\n",
       "      <td>HuneX</td>\n",
       "      <td>[Adventure, Visual Novel]</td>\n",
       "      <td>singleplayer</td>\n",
       "      <td>M</td>\n",
       "    </tr>\n",
       "    <tr>\n",
       "      <th>4</th>\n",
       "      <td>NFL 2K1</td>\n",
       "      <td>97.0</td>\n",
       "      <td>62.0</td>\n",
       "      <td>[dreamcast]</td>\n",
       "      <td>In the end, NFL 2K1 is a deeper, more refined version of the original game.</td>\n",
       "      <td>Visual Concepts</td>\n",
       "      <td>[Sports, Traditional, Football, Sim]</td>\n",
       "      <td>NaN</td>\n",
       "      <td>E</td>\n",
       "    </tr>\n",
       "  </tbody>\n",
       "</table>\n",
       "</div>"
      ],
      "text/plain": [
       "                                                       name_game  meta_score  \\\n",
       "0                           The Legend of Zelda: Ocarina of Time        99.0   \n",
       "1                                            Super Mario Odyssey        97.0   \n",
       "2                                           Halo: Combat Evolved        97.0   \n",
       "3  The House in Fata Morgana - Dreams of the Revenants Edition -        97.0   \n",
       "4                                                        NFL 2K1        97.0   \n",
       "\n",
       "   user_score       platform  \\\n",
       "0        91.0  [nintendo-64]   \n",
       "1        89.0       [switch]   \n",
       "2        87.0         [xbox]   \n",
       "3        83.0       [switch]   \n",
       "4        62.0    [dreamcast]   \n",
       "\n",
       "                                                                                           description  \\\n",
       "0  As a young boy, Link is tricked by Ganondorf, the King of the Gerudo Thieves. The evil human use...   \n",
       "1  New Evolution of Mario Sandbox-Style Gameplay. Mario embarks on a new journey through unknown wo...   \n",
       "2  Enter the mysterious world of Halo, an alien planet shaped like a ring.  As mankind's super sold...   \n",
       "3  A gothic suspense tale set in a cursed mansion. ‘The House in Fata Morgana’ is a full-length vis...   \n",
       "4                          In the end, NFL 2K1 is a deeper, more refined version of the original game.   \n",
       "\n",
       "         developer                                    genre          type  \\\n",
       "0         Nintendo              [Action Adventure, Fantasy]  singleplayer   \n",
       "1         Nintendo                 [Action, Platformer, 3D]  singleplayer   \n",
       "2  Bungie Software  [Action, Shooter, First-Person, Sci-Fi]   multiplayer   \n",
       "3            HuneX                [Adventure, Visual Novel]  singleplayer   \n",
       "4  Visual Concepts     [Sports, Traditional, Football, Sim]           NaN   \n",
       "\n",
       "  rating  \n",
       "0      E  \n",
       "1   E10+  \n",
       "2      M  \n",
       "3      M  \n",
       "4      E  "
      ]
     },
     "execution_count": 33,
     "metadata": {},
     "output_type": "execute_result"
    }
   ],
   "source": [
    "metadata.head()"
   ]
  },
  {
   "cell_type": "code",
   "execution_count": null,
   "id": "b04c769f-c252-430e-a85c-3d5089fd7786",
   "metadata": {},
   "outputs": [],
   "source": [
    "metadata['developer']"
   ]
  },
  {
   "cell_type": "code",
   "execution_count": 65,
   "id": "de4ebb47-2bc6-469f-b5fa-46e4ad65745c",
   "metadata": {},
   "outputs": [],
   "source": [
    "def create_soup(x):\n",
    "    return ' '.join(x['platform']).lower() + ' ' + ''.join(str(x['developer']).split()) + ' ' + ' '.join(x['genre']) + ' ' + str(x['type']) + ' ' + str(x['rating'])\n",
    "    #' ' + str(x['developer']).lower() + ' ' + str(' '.join(x['genre'])).lower() + ' ' + str(x['type']).lower() + ' ' + str(x['rating']).lower()"
   ]
  },
  {
   "cell_type": "code",
   "execution_count": 66,
   "id": "0097d683-7adc-4d41-a708-780e70594ed8",
   "metadata": {},
   "outputs": [],
   "source": [
    "# Create a new soup feature\n",
    "metadata['soup'] = metadata.apply(create_soup, axis=1)"
   ]
  },
  {
   "cell_type": "code",
   "execution_count": 67,
   "id": "f0a0f0f9-55b1-4a85-896d-13ff51a93c2f",
   "metadata": {},
   "outputs": [
    {
     "data": {
      "text/html": [
       "<div>\n",
       "<style scoped>\n",
       "    .dataframe tbody tr th:only-of-type {\n",
       "        vertical-align: middle;\n",
       "    }\n",
       "\n",
       "    .dataframe tbody tr th {\n",
       "        vertical-align: top;\n",
       "    }\n",
       "\n",
       "    .dataframe thead th {\n",
       "        text-align: right;\n",
       "    }\n",
       "</style>\n",
       "<table border=\"1\" class=\"dataframe\">\n",
       "  <thead>\n",
       "    <tr style=\"text-align: right;\">\n",
       "      <th></th>\n",
       "      <th>soup</th>\n",
       "    </tr>\n",
       "  </thead>\n",
       "  <tbody>\n",
       "    <tr>\n",
       "      <th>0</th>\n",
       "      <td>nintendo-64 Nintendo Action Adventure Fantasy singleplayer E</td>\n",
       "    </tr>\n",
       "    <tr>\n",
       "      <th>1</th>\n",
       "      <td>switch Nintendo Action Platformer 3D singleplayer E10+</td>\n",
       "    </tr>\n",
       "    <tr>\n",
       "      <th>2</th>\n",
       "      <td>xbox BungieSoftware Action Shooter First-Person Sci-Fi multiplayer M</td>\n",
       "    </tr>\n",
       "    <tr>\n",
       "      <th>3</th>\n",
       "      <td>switch HuneX Adventure Visual Novel singleplayer M</td>\n",
       "    </tr>\n",
       "    <tr>\n",
       "      <th>4</th>\n",
       "      <td>dreamcast VisualConcepts Sports Traditional Football Sim nan E</td>\n",
       "    </tr>\n",
       "  </tbody>\n",
       "</table>\n",
       "</div>"
      ],
      "text/plain": [
       "                                                                   soup\n",
       "0          nintendo-64 Nintendo Action Adventure Fantasy singleplayer E\n",
       "1                switch Nintendo Action Platformer 3D singleplayer E10+\n",
       "2  xbox BungieSoftware Action Shooter First-Person Sci-Fi multiplayer M\n",
       "3                    switch HuneX Adventure Visual Novel singleplayer M\n",
       "4        dreamcast VisualConcepts Sports Traditional Football Sim nan E"
      ]
     },
     "execution_count": 67,
     "metadata": {},
     "output_type": "execute_result"
    }
   ],
   "source": [
    "metadata[['soup']].head()"
   ]
  },
  {
   "cell_type": "code",
   "execution_count": 68,
   "id": "5215559a-971c-4d25-97da-cf1f9b4d6d9d",
   "metadata": {},
   "outputs": [],
   "source": [
    "# Import CountVectorizer and create the count matrix\n",
    "from sklearn.feature_extraction.text import CountVectorizer\n",
    "\n",
    "count = CountVectorizer(stop_words='english')\n",
    "count_matrix = count.fit_transform(metadata['soup'])"
   ]
  },
  {
   "cell_type": "code",
   "execution_count": 69,
   "id": "18fca5a4-259b-4d01-8303-de4d31fb4f96",
   "metadata": {},
   "outputs": [
    {
     "data": {
      "text/plain": [
       "(8827, 3190)"
      ]
     },
     "execution_count": 69,
     "metadata": {},
     "output_type": "execute_result"
    }
   ],
   "source": [
    "count_matrix.shape"
   ]
  },
  {
   "cell_type": "code",
   "execution_count": 70,
   "id": "da8d4a2f-6f44-4c26-9df5-4716d51a83a9",
   "metadata": {},
   "outputs": [],
   "source": [
    "# Compute the Cosine Similarity matrix based on the count_matrix\n",
    "from sklearn.metrics.pairwise import cosine_similarity\n",
    "\n",
    "cosine_sim2 = cosine_similarity(count_matrix, count_matrix)"
   ]
  },
  {
   "cell_type": "code",
   "execution_count": 71,
   "id": "81ef5c61-0b2f-482c-aa70-ceb7d53ea05b",
   "metadata": {},
   "outputs": [],
   "source": [
    "# Reset index of your main DataFrame and construct reverse mapping as before\n",
    "metadata = metadata.reset_index()\n",
    "indices = pd.Series(metadata.index, index=metadata['name_game'])"
   ]
  },
  {
   "cell_type": "code",
   "execution_count": 76,
   "id": "c830b973-0d00-4223-a4b8-fcd723410826",
   "metadata": {},
   "outputs": [
    {
     "data": {
      "text/plain": [
       "6930                                    Kingdom Under Fire II\n",
       "8278                                                    Tryst\n",
       "115                              Warcraft III: Reign of Chaos\n",
       "181                                    Myth: The Fallen Lords\n",
       "271                                             Black & White\n",
       "329                                          Age of Mythology\n",
       "419                                     Myth II: Soulblighter\n",
       "446                           Warcraft III: The Frozen Throne\n",
       "846                              Age of Mythology: The Titans\n",
       "940     The Lord of the Rings: The Battle for Middle-Earth II\n",
       "Name: name_game, dtype: object"
      ]
     },
     "execution_count": 76,
     "metadata": {},
     "output_type": "execute_result"
    }
   ],
   "source": [
    "get_recommendations('Dota 2', cosine_sim2)"
   ]
  },
  {
   "cell_type": "code",
   "execution_count": null,
   "id": "60f95174-1eb7-4362-83b9-fbfac796b1c3",
   "metadata": {},
   "outputs": [],
   "source": []
  }
 ],
 "metadata": {
  "kernelspec": {
   "display_name": "Python 3 (ipykernel)",
   "language": "python",
   "name": "python3"
  },
  "language_info": {
   "codemirror_mode": {
    "name": "ipython",
    "version": 3
   },
   "file_extension": ".py",
   "mimetype": "text/x-python",
   "name": "python",
   "nbconvert_exporter": "python",
   "pygments_lexer": "ipython3",
   "version": "3.9.3"
  }
 },
 "nbformat": 4,
 "nbformat_minor": 5
}
